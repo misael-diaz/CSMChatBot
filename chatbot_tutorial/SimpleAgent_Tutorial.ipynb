{
 "cells": [
  {
   "cell_type": "markdown",
   "metadata": {},
   "source": [
    "Tutorial on buildin simple Agent with LangChain. Based on:\n",
    "\n",
    "https://python.langchain.com/docs/use_cases/chatbots/"
   ]
  },
  {
   "cell_type": "code",
   "execution_count": 5,
   "metadata": {},
   "outputs": [],
   "source": [
    "## Uncomment below to instal newest versiono f langchain \n",
    "# !pip install --upgrade --quiet  langchain langchain-openai\n",
    "\n",
    "import os \n",
    "\n",
    "# Define API key for OPenAI\n",
    "OPENAI_API_KEY = os.getenv(\"OPENAI_API_KEY\", \"\")\n"
   ]
  },
  {
   "cell_type": "markdown",
   "metadata": {},
   "source": [
    "# An agent is just a chatbot that can use tools.\n",
    "\n",
    "Tools being code that allows the LLM to interact with systems outside of its session. You can use pre-defined tools or define custom ones. There are also different agent types which have different purposes.\n",
    "\n",
    "https://python.langchain.com/docs/integrations/tools/ <br>\n",
    "https://python.langchain.com/docs/modules/agents/tools/custom_tools <br>\n",
    "https://python.langchain.com/docs/modules/agents/agent_types/<br>\n",
    "https://react-lm.github.io/\n"
   ]
  },
  {
   "cell_type": "markdown",
   "metadata": {},
   "source": [
    "Lets start with a simple agent that can use a tool for Shell command sand bash scripting.The LLM can use it to execute any shell commands. A common use case for this is letting the LLM interact with your local file system.\n",
    "\n",
    "Note: Shell tool does not work with Windows OS."
   ]
  },
  {
   "cell_type": "code",
   "execution_count": 6,
   "metadata": {},
   "outputs": [
    {
     "data": {
      "text/plain": [
       "{'commands': {'title': 'Commands',\n",
       "  'description': 'List of shell commands to run. Deserialized using json.loads',\n",
       "  'anyOf': [{'type': 'string'},\n",
       "   {'type': 'array', 'items': {'type': 'string'}}]}}"
      ]
     },
     "execution_count": 6,
     "metadata": {},
     "output_type": "execute_result"
    }
   ],
   "source": [
    "# Import tool \n",
    "from langchain.tools import ShellTool\n",
    "\n",
    "shell_tool = ShellTool()\n",
    "\n",
    "# Print tool description \n",
    "shell_tool.name\n",
    "shell_tool.description\n",
    "shell_tool.args"
   ]
  },
  {
   "cell_type": "code",
   "execution_count": 7,
   "metadata": {},
   "outputs": [
    {
     "name": "stdout",
     "output_type": "stream",
     "text": [
      "Executing command:\n",
      " [\"echo 'Hello World!'\", 'pwd']\n",
      "Hello World!\n",
      "/media/nando/New_Volume/ChatGPT_things/AI_Agent_CSM/chatbot_tutorial\n",
      "\n"
     ]
    },
    {
     "name": "stderr",
     "output_type": "stream",
     "text": [
      "/home/nando/anaconda3/envs/huggingface/lib/python3.9/site-packages/langchain_community/tools/shell/tool.py:32: UserWarning: The shell tool has no safeguards by default. Use at your own risk.\n",
      "  warnings.warn(\n"
     ]
    }
   ],
   "source": [
    "## Example usage of shell tool\n",
    "print(shell_tool.run({\"commands\": [\"echo 'Hello World!'\", \"pwd\"]}))\n"
   ]
  },
  {
   "cell_type": "code",
   "execution_count": 8,
   "metadata": {},
   "outputs": [
    {
     "name": "stdout",
     "output_type": "stream",
     "text": [
      "input_variables=['agent_scratchpad', 'input', 'tool_names', 'tools'] template='Answer the following questions as best you can. You have access to the following tools:\\n\\n{tools}\\n\\nUse the following format:\\n\\nQuestion: the input question you must answer\\nThought: you should always think about what to do\\nAction: the action to take, should be one of [{tool_names}]\\nAction Input: the input to the action\\nObservation: the result of the action\\n... (this Thought/Action/Action Input/Observation can repeat N times)\\nThought: I now know the final answer\\nFinal Answer: the final answer to the original input question\\n\\nBegin!\\n\\nQuestion: {input}\\nThought:{agent_scratchpad}'\n"
     ]
    }
   ],
   "source": [
    "## Load default OpenAI chatbot\n",
    "from langchain_openai import ChatOpenAI\n",
    "from langchain.agents import AgentExecutor,create_react_agent # To load simple ReAct agent. Reason an act\n",
    "from langchain import hub\n",
    "\n",
    "## Define LLM\n",
    "llm = ChatOpenAI(model=\"gpt-3.5-turbo\", temperature=0.0)\n",
    "\n",
    "# Define list of tools the LLM is going to use \n",
    "tools = [shell_tool]\n",
    "\n",
    "# Get the template prompt to use - you can modify this!\n",
    "prompt = hub.pull(\"hwchase17/react\")\n",
    "\n",
    "## Read the prompt template \n",
    "print(prompt)\n"
   ]
  },
  {
   "cell_type": "code",
   "execution_count": 9,
   "metadata": {},
   "outputs": [],
   "source": [
    "## Construct the ReAct agent by defining the llm, tools and prompt template\n",
    "shell_Agent = create_react_agent(llm=llm,tools=tools,prompt=prompt)\n",
    "\n",
    "# Create an agent executor by passing in the agent and tools\n",
    "agent_executor = AgentExecutor(agent=shell_Agent, tools=tools, verbose=True)"
   ]
  },
  {
   "cell_type": "code",
   "execution_count": 12,
   "metadata": {},
   "outputs": [
    {
     "name": "stdout",
     "output_type": "stream",
     "text": [
      "\n",
      "\n",
      "\u001b[1m> Entering new AgentExecutor chain...\u001b[0m\n",
      "\u001b[32;1m\u001b[1;3mI should use the terminal to list the files in the current working directory.\n",
      "Action: terminal\n",
      "Action Input: ls\u001b[0mExecuting command:\n",
      " ls\n",
      "\u001b[36;1m\u001b[1;3mConversationalBot_Tutorial.ipynb\n",
      "ethanol_test.data\n",
      "SimpleAgent_Tutorial.ipynb\n",
      "test.data\n",
      "Tutorial_MosDEF.ipynb\n",
      "\u001b[0m"
     ]
    },
    {
     "name": "stderr",
     "output_type": "stream",
     "text": [
      "/home/nando/anaconda3/envs/huggingface/lib/python3.9/site-packages/langchain_community/tools/shell/tool.py:32: UserWarning: The shell tool has no safeguards by default. Use at your own risk.\n",
      "  warnings.warn(\n"
     ]
    },
    {
     "name": "stdout",
     "output_type": "stream",
     "text": [
      "\u001b[32;1m\u001b[1;3mI now know the final answer\n",
      "Final Answer: The files in the current working directory are ConversationalBot_Tutorial.ipynb, ethanol_test.data, SimpleAgent_Tutorial.ipynb, test.data, and Tutorial_MosDEF.ipynb.\u001b[0m\n",
      "\n",
      "\u001b[1m> Finished chain.\u001b[0m\n"
     ]
    },
    {
     "data": {
      "text/plain": [
       "{'input': 'What are the files in the current working directory?',\n",
       " 'output': 'The files in the current working directory are ConversationalBot_Tutorial.ipynb, ethanol_test.data, SimpleAgent_Tutorial.ipynb, test.data, and Tutorial_MosDEF.ipynb.'}"
      ]
     },
     "execution_count": 12,
     "metadata": {},
     "output_type": "execute_result"
    }
   ],
   "source": [
    "## Run the agent executor\n",
    "\n",
    "input = 'What are the files in the current working directory?'\n",
    "response = agent_executor.invoke({\"input\":str(input)})\n",
    "response"
   ]
  },
  {
   "cell_type": "code",
   "execution_count": 11,
   "metadata": {},
   "outputs": [
    {
     "data": {
      "text/plain": [
       "'The files in the current working directory are ConversationalBot_Tutorial.ipynb, ethanol_test.data, SimpleAgent_Tutorial.ipynb, test.data, and Tutorial_MosDEF.ipynb.'"
      ]
     },
     "execution_count": 11,
     "metadata": {},
     "output_type": "execute_result"
    }
   ],
   "source": [
    "response['output']"
   ]
  },
  {
   "cell_type": "code",
   "execution_count": null,
   "metadata": {},
   "outputs": [],
   "source": []
  }
 ],
 "metadata": {
  "kernelspec": {
   "display_name": "huggingface",
   "language": "python",
   "name": "python3"
  },
  "language_info": {
   "codemirror_mode": {
    "name": "ipython",
    "version": 3
   },
   "file_extension": ".py",
   "mimetype": "text/x-python",
   "name": "python",
   "nbconvert_exporter": "python",
   "pygments_lexer": "ipython3",
   "version": "3.9.18"
  }
 },
 "nbformat": 4,
 "nbformat_minor": 2
}
