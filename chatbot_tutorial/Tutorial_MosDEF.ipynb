{
 "cells": [
  {
   "cell_type": "code",
   "execution_count": null,
   "metadata": {},
   "outputs": [],
   "source": []
  },
  {
   "cell_type": "markdown",
   "metadata": {},
   "source": [
    "https://mosdef.org/"
   ]
  },
  {
   "cell_type": "code",
   "execution_count": 10,
   "metadata": {},
   "outputs": [],
   "source": [
    "import mbuild\n",
    "import foyer \n",
    "import os\n",
    "import warnings\n",
    "warnings.filterwarnings(\"ignore\")"
   ]
  },
  {
   "cell_type": "code",
   "execution_count": 11,
   "metadata": {},
   "outputs": [],
   "source": [
    "# Set API Keys\n",
    "OPENAI_API_KEY = os.getenv(\"OPENAI_API_KEY\", \"\")\n"
   ]
  },
  {
   "cell_type": "code",
   "execution_count": 12,
   "metadata": {},
   "outputs": [
    {
     "name": "stdout",
     "output_type": "stream",
     "text": [
      "No urey bradley terms detected, will use angle_style harmonic\n",
      "RB Torsions detected, will use dihedral_style opls\n"
     ]
    }
   ],
   "source": [
    "# Defien function to generate LAMMPS input file using MosdDEF\n",
    "\n",
    "#Define inputs \n",
    "system_smiles = 'CCO'  # Ethanol for example\n",
    "box_size = 4 # nano meter  \n",
    "n_molecules = 0 # Number of molecules\n",
    "density = 789 ## kg/m^3\n",
    "forcefield_name = 'oplsaa' # OPLS-AA forcefield. Can be changed by available forcefileds in mbuild\n",
    "system_name = 'ethanol_test' # Name of the system\n",
    "\n",
    "# Load system using its SMILES strings\n",
    "system_unparad = mbuild.load(system_smiles, smiles=True)\n",
    "\n",
    "# assign name \n",
    "system_unparad.name = system_name\n",
    "\n",
    "# build box\n",
    "box = mbuild.Box(3*[box_size])\n",
    "\n",
    "# Fill the box with the molecule of interest\n",
    "# filled_box = mbuild.fill_box(compound=system_unparad, density=density, box=box, overlap=0.2)\n",
    "filled_box = mbuild.fill_box(compound=system_unparad, n_compounds=1, box=box, overlap=0.2)\n",
    "\n",
    "## apply the forcefield to the system\n",
    "ff = foyer.Forcefield(name=forcefield_name)\n",
    "filled_box_param = filled_box.to_parmed(infer_residues=True) # Parmed structure\n",
    "filled_box_parametrized = ff.apply(filled_box_param) # ff applied\n",
    "\n",
    "\n",
    "## Pass the parametrized system to a Lammps data file \n",
    "\n",
    "mbuild.formats.lammpsdata.write_lammpsdata(\n",
    "   filled_box_parametrized, \n",
    "   str(system_name)+\".data\",\n",
    "   atom_style=\"full\",\n",
    "   unit_style=\"real\",\n",
    "   use_rb_torsions=True,\n",
    ")\n",
    "\n"
   ]
  },
  {
   "cell_type": "code",
   "execution_count": 13,
   "metadata": {},
   "outputs": [
    {
     "name": "stdout",
     "output_type": "stream",
     "text": [
      "No urey bradley terms detected, will use angle_style harmonic\n",
      "RB Torsions detected, will use dihedral_style opls\n",
      "\n",
      "LAMMPS data file generated for 1 CCO molecule(s).\n"
     ]
    }
   ],
   "source": [
    "## Write into function \n",
    "\n",
    "# Defien function to generate LAMMPS input file using MosdDEF\n",
    "def MosdDEF_1_inp(smiles):\n",
    "    #Define inputs \n",
    "    system_smiles = smiles     ##'CCO'  # Ethanol for example\n",
    "    box_size = 4 # nano meter = \n",
    "    n_molecules = 1 # Number of molecules\n",
    "    density = 789 ## kg/m^3\n",
    "    forcefield_name = 'oplsaa' # OPLS-AA forcefield. Can be changed by available forcefileds in mbuild\n",
    "    system_name = 'test' # Name of the system\n",
    "\n",
    "    # Load system using its SMILES strings\n",
    "    system_unparad = mbuild.load(system_smiles, smiles=True)\n",
    "\n",
    "    # assign name \n",
    "    system_unparad.name = system_name\n",
    "\n",
    "    # build box\n",
    "    box = mbuild.Box(3*[box_size])\n",
    "\n",
    "    # Fill the box with the molecule of interest\n",
    "    # filled_box = mbuild.fill_box(compound=system_unparad, density=density, box=box, overlap=0.2)\n",
    "    filled_box = mbuild.fill_box(compound=system_unparad, n_compounds=n_molecules, box=box, overlap=0.2)\n",
    "\n",
    "    ## apply the forcefield to the system\n",
    "    ff = foyer.Forcefield(name=forcefield_name)\n",
    "    filled_box_param = filled_box.to_parmed(infer_residues=True) # Parmed structure\n",
    "    filled_box_parametrized = ff.apply(filled_box_param) # ff applied\n",
    "\n",
    "\n",
    "    ## Pass the parametrized system to a Lammps data file \n",
    "    mbuild.formats.lammpsdata.write_lammpsdata(\n",
    "    filled_box_parametrized, \n",
    "    str(system_name)+\".data\",\n",
    "    atom_style=\"full\",\n",
    "    unit_style=\"real\",\n",
    "    use_rb_torsions=True,\n",
    "    )\n",
    "\n",
    "    return print(f'\\nLAMMPS data file generated for {n_molecules} {smiles} molecule(s).')\n",
    "\n",
    "# Test the function \n",
    "test_smile = 'CCO'\n",
    "MosdDEF_1_inp(smiles=test_smile)\n",
    "\n"
   ]
  },
  {
   "cell_type": "markdown",
   "metadata": {},
   "source": [
    "Convert functio to tool "
   ]
  },
  {
   "cell_type": "code",
   "execution_count": 18,
   "metadata": {},
   "outputs": [
    {
     "name": "stdout",
     "output_type": "stream",
     "text": [
      "MosdDEF_1_inp\n",
      "MosdDEF_1_inp(smiles: str) - Function to create a data file for LAMMPS simulations. The input is a smiles string of a molecule\n",
      "{'smiles': {'title': 'Smiles', 'type': 'string'}}\n"
     ]
    }
   ],
   "source": [
    "from langchain.tools import BaseTool, StructuredTool, tool\n",
    "\n",
    "@tool \n",
    "def MosdDEF_1_inp(smiles:str):\n",
    "    \"\"\"Function to create a data file for LAMMPS simulations. The input is a smiles string of a molecule\"\"\"\n",
    "    #Define inputs \n",
    "    system_smiles = smiles     ##'CCO'  # Ethanol for example\n",
    "    box_size = 4 # nano meter = \n",
    "    n_molecules = 1 # Number of molecules\n",
    "    #density = 789 ## kg/m^3\n",
    "    forcefield_name = 'oplsaa' # OPLS-AA forcefield. Can be changed by available forcefileds in mbuild\n",
    "    system_name = 'test' # Name of the system\n",
    "\n",
    "    # Load system using its SMILES strings\n",
    "    system_unparad = mbuild.load(system_smiles, smiles=True)\n",
    "\n",
    "    # assign name \n",
    "    system_unparad.name = system_name\n",
    "\n",
    "    # build box\n",
    "    box = mbuild.Box(3*[box_size])\n",
    "\n",
    "    # Fill the box with the molecule of interest\n",
    "    # filled_box = mbuild.fill_box(compound=system_unparad, density=density, box=box, overlap=0.2)\n",
    "    filled_box = mbuild.fill_box(compound=system_unparad, n_compounds=n_molecules, box=box, overlap=0.2)\n",
    "\n",
    "    ## apply the forcefield to the system\n",
    "    ff = foyer.Forcefield(name=forcefield_name)\n",
    "    filled_box_param = filled_box.to_parmed(infer_residues=True) # Parmed structure\n",
    "    filled_box_parametrized = ff.apply(filled_box_param) # ff applied\n",
    "\n",
    "    ## Pass the parametrized system to a Lammps data file \n",
    "    mbuild.formats.lammpsdata.write_lammpsdata(\n",
    "    filled_box_parametrized, \n",
    "    str(system_name)+\".data\",\n",
    "    atom_style=\"full\",\n",
    "    unit_style=\"real\",\n",
    "    use_rb_torsions=True,\n",
    "    )\n",
    "\n",
    "    return #print(f'\\nLAMMPS data file generated for {n_molecules} {smiles} molecule(s).')\n",
    "\n",
    "## Print name description and args of tool \n",
    "print(MosdDEF_1_inp.name)\n",
    "print(MosdDEF_1_inp.description)\n",
    "print(MosdDEF_1_inp.args)\n"
   ]
  },
  {
   "cell_type": "markdown",
   "metadata": {},
   "source": [
    "### Load LLM and give MOsdef tool so it can use it \n"
   ]
  },
  {
   "cell_type": "code",
   "execution_count": 19,
   "metadata": {},
   "outputs": [
    {
     "name": "stdout",
     "output_type": "stream",
     "text": [
      "input_variables=['agent_scratchpad', 'input', 'tool_names', 'tools'] template='Answer the following questions as best you can. You have access to the following tools:\\n\\n{tools}\\n\\nUse the following format:\\n\\nQuestion: the input question you must answer\\nThought: you should always think about what to do\\nAction: the action to take, should be one of [{tool_names}]\\nAction Input: the input to the action\\nObservation: the result of the action\\n... (this Thought/Action/Action Input/Observation can repeat N times)\\nThought: I now know the final answer\\nFinal Answer: the final answer to the original input question\\n\\nBegin!\\n\\nQuestion: {input}\\nThought:{agent_scratchpad}'\n"
     ]
    }
   ],
   "source": [
    "## Load default OpenAI chatbot\n",
    "from langchain_openai import ChatOpenAI\n",
    "from langchain.agents import AgentExecutor,create_react_agent # To load simple ReAct agent. Reason an act\n",
    "from langchain import hub\n",
    "import os \n",
    "import warnings\n",
    "warnings. filterwarnings('ignore') \n",
    "\n",
    "# Define API key for OPenAI\n",
    "OPENAI_API_KEY = os.getenv(\"OPENAI_API_KEY\", \"\")\n",
    "\n",
    "## Define LLM\n",
    "llm = ChatOpenAI(model=\"gpt-3.5-turbo\", temperature=0.0)\n",
    "\n",
    "# Define list of tools the LLM is going to use \n",
    "tools = [MosdDEF_1_inp]\n",
    "\n",
    "# Get the template prompt to use - you can modify this!\n",
    "prompt = hub.pull(\"hwchase17/react\")\n",
    "\n",
    "## Read the prompt template \n",
    "print(prompt)"
   ]
  },
  {
   "cell_type": "code",
   "execution_count": 20,
   "metadata": {},
   "outputs": [],
   "source": [
    "## Construct the ReAct agent by defining the llm, tools and prompt template\n",
    "mosdef_1_Agent = create_react_agent(llm=llm,tools=tools,prompt=prompt)\n",
    "\n",
    "# Create an agent executor by passing in the agent and tools\n",
    "agent_executor = AgentExecutor(agent=mosdef_1_Agent, tools=tools, verbose=True)"
   ]
  },
  {
   "cell_type": "code",
   "execution_count": 21,
   "metadata": {},
   "outputs": [
    {
     "name": "stdout",
     "output_type": "stream",
     "text": [
      "\n",
      "\n",
      "\u001b[1m> Entering new AgentExecutor chain...\u001b[0m\n",
      "\u001b[32;1m\u001b[1;3mI should use the MosdDEF_1_inp function to create the Lammps input file for CCO.\n",
      "Action: MosdDEF_1_inp\n",
      "Action Input: \"CCO\"\u001b[0mNo urey bradley terms detected, will use angle_style harmonic\n",
      "RB Torsions detected, will use dihedral_style opls\n",
      "\u001b[36;1m\u001b[1;3mNone\u001b[0m\u001b[32;1m\u001b[1;3mThe MosdDEF_1_inp function should have created the Lammps input file for CCO.\n",
      "Final Answer: The Lammps input file for CCO has been created.\u001b[0m\n",
      "\n",
      "\u001b[1m> Finished chain.\u001b[0m\n"
     ]
    },
    {
     "data": {
      "text/plain": [
       "{'input': 'Create a Lammps input file for CCO',\n",
       " 'output': 'The Lammps input file for CCO has been created.'}"
      ]
     },
     "execution_count": 21,
     "metadata": {},
     "output_type": "execute_result"
    }
   ],
   "source": [
    "## Run the agent executor\n",
    "\n",
    "input = 'Create a Lammps input file for CCO'\n",
    "response = agent_executor.invoke({\"input\":str(input)})\n",
    "response"
   ]
  },
  {
   "cell_type": "code",
   "execution_count": null,
   "metadata": {},
   "outputs": [],
   "source": []
  }
 ],
 "metadata": {
  "kernelspec": {
   "display_name": "base",
   "language": "python",
   "name": "python3"
  },
  "language_info": {
   "codemirror_mode": {
    "name": "ipython",
    "version": 3
   },
   "file_extension": ".py",
   "mimetype": "text/x-python",
   "name": "python",
   "nbconvert_exporter": "python",
   "pygments_lexer": "ipython3",
   "version": "3.9.18"
  },
  "orig_nbformat": 4
 },
 "nbformat": 4,
 "nbformat_minor": 2
}
